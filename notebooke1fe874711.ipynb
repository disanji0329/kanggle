{
 "cells": [
  {
   "cell_type": "code",
   "execution_count": 1,
   "id": "438c483e",
   "metadata": {
    "_cell_guid": "b1076dfc-b9ad-4769-8c92-a6c4dae69d19",
    "_uuid": "8f2839f25d086af736a60e9eeb907d3b93b6e0e5",
    "execution": {
     "iopub.execute_input": "2023-06-28T00:37:20.690298Z",
     "iopub.status.busy": "2023-06-28T00:37:20.689763Z",
     "iopub.status.idle": "2023-06-28T00:37:20.704881Z",
     "shell.execute_reply": "2023-06-28T00:37:20.703988Z"
    },
    "papermill": {
     "duration": 0.03292,
     "end_time": "2023-06-28T00:37:20.707491",
     "exception": false,
     "start_time": "2023-06-28T00:37:20.674571",
     "status": "completed"
    },
    "tags": []
   },
   "outputs": [],
   "source": [
    "# This Python 3 environment comes with many helpful analytics libraries installed\n",
    "# It is defined by the kaggle/python Docker image: https://github.com/kaggle/docker-python\n",
    "# For example, here's several helpful packages to load\n",
    "\n",
    "import numpy as np # linear algebra\n",
    "import pandas as pd # data processing, CSV file I/O (e.g. pd.read_csv)\n",
    "\n",
    "# Input data files are available in the read-only \"../input/\" directory\n",
    "# For example, running this (by clicking run or pressing Shift+Enter) will list all files under the input directory\n",
    "\n",
    "import os\n",
    "for dirname, _, filenames in os.walk('/kaggle/input'):\n",
    "    for filename in filenames:\n",
    "        print(os.path.join(dirname, filename))\n",
    "\n",
    "# You can write up to 20GB to the current directory (/kaggle/working/) that gets preserved as output when you create a version using \"Save & Run All\" \n",
    "# You can also write temporary files to /kaggle/temp/, but they won't be saved outside of the current session"
   ]
  },
  {
   "cell_type": "markdown",
   "id": "46a30364",
   "metadata": {
    "papermill": {
     "duration": 0.010802,
     "end_time": "2023-06-28T00:37:20.729887",
     "exception": false,
     "start_time": "2023-06-28T00:37:20.719085",
     "status": "completed"
    },
    "tags": []
   },
   "source": [
    "# Printing\n",
    "* putting the message inside the parentheses and enclosed in quotation marks."
   ]
  },
  {
   "cell_type": "code",
   "execution_count": 2,
   "id": "f68b55b4",
   "metadata": {
    "execution": {
     "iopub.execute_input": "2023-06-28T00:37:20.753840Z",
     "iopub.status.busy": "2023-06-28T00:37:20.753342Z",
     "iopub.status.idle": "2023-06-28T00:37:20.758678Z",
     "shell.execute_reply": "2023-06-28T00:37:20.757919Z"
    },
    "papermill": {
     "duration": 0.021104,
     "end_time": "2023-06-28T00:37:20.762047",
     "exception": false,
     "start_time": "2023-06-28T00:37:20.740943",
     "status": "completed"
    },
    "tags": []
   },
   "outputs": [
    {
     "name": "stdout",
     "output_type": "stream",
     "text": [
      "Hello,world!\n"
     ]
    }
   ],
   "source": [
    "print(\"Hello,world!\")"
   ]
  },
  {
   "cell_type": "markdown",
   "id": "fc08edba",
   "metadata": {
    "papermill": {
     "duration": 0.010903,
     "end_time": "2023-06-28T00:37:20.785023",
     "exception": false,
     "start_time": "2023-06-28T00:37:20.774120",
     "status": "completed"
    },
    "tags": []
   },
   "source": [
    "# Arithmetic\n",
    "* Note that unlike when we were simply printing text, we don't use any quotation marks."
   ]
  },
  {
   "cell_type": "code",
   "execution_count": 3,
   "id": "39646c89",
   "metadata": {
    "execution": {
     "iopub.execute_input": "2023-06-28T00:37:20.809165Z",
     "iopub.status.busy": "2023-06-28T00:37:20.808779Z",
     "iopub.status.idle": "2023-06-28T00:37:20.813645Z",
     "shell.execute_reply": "2023-06-28T00:37:20.812882Z"
    },
    "papermill": {
     "duration": 0.019691,
     "end_time": "2023-06-28T00:37:20.815993",
     "exception": false,
     "start_time": "2023-06-28T00:37:20.796302",
     "status": "completed"
    },
    "tags": []
   },
   "outputs": [
    {
     "name": "stdout",
     "output_type": "stream",
     "text": [
      "3\n"
     ]
    }
   ],
   "source": [
    "print(1 + 2)"
   ]
  },
  {
   "attachments": {
    "3c41ecba-ce45-49ea-a4ef-383b226a35fe.png": {
     "image/png": "[encoded data removed]"
    }
   },
   "cell_type": "markdown",
   "id": "abafc0d2",
   "metadata": {
    "papermill": {
     "duration": 0.010914,
     "end_time": "2023-06-28T00:37:20.838107",
     "exception": false,
     "start_time": "2023-06-28T00:37:20.827193",
     "status": "completed"
    },
    "tags": []
   },
   "source": [
    "![算术操作.png](attachment:3c41ecba-ce45-49ea-a4ef-383b226a35fe.png)"
   ]
  },
  {
   "cell_type": "markdown",
   "id": "f61a6e37",
   "metadata": {
    "papermill": {
     "duration": 0.010798,
     "end_time": "2023-06-28T00:37:20.860124",
     "exception": false,
     "start_time": "2023-06-28T00:37:20.849326",
     "status": "completed"
    },
    "tags": []
   },
   "source": [
    "# comment\n",
    " you need to write a pound sign (#) as the very first character."
   ]
  },
  {
   "cell_type": "code",
   "execution_count": 4,
   "id": "a89b0213",
   "metadata": {
    "execution": {
     "iopub.execute_input": "2023-06-28T00:37:20.884350Z",
     "iopub.status.busy": "2023-06-28T00:37:20.883732Z",
     "iopub.status.idle": "2023-06-28T00:37:20.889046Z",
     "shell.execute_reply": "2023-06-28T00:37:20.887870Z"
    },
    "papermill": {
     "duration": 0.020203,
     "end_time": "2023-06-28T00:37:20.891408",
     "exception": false,
     "start_time": "2023-06-28T00:37:20.871205",
     "status": "completed"
    },
    "tags": []
   },
   "outputs": [
    {
     "name": "stdout",
     "output_type": "stream",
     "text": [
      "6\n"
     ]
    }
   ],
   "source": [
    "# Multiply 3 by 2\n",
    "print(3 * 2)"
   ]
  },
  {
   "cell_type": "markdown",
   "id": "a411da8a",
   "metadata": {
    "papermill": {
     "duration": 0.010921,
     "end_time": "2023-06-28T00:37:20.913594",
     "exception": false,
     "start_time": "2023-06-28T00:37:20.902673",
     "status": "completed"
    },
    "tags": []
   },
   "source": []
  },
  {
   "cell_type": "markdown",
   "id": "23551e22",
   "metadata": {
    "papermill": {
     "duration": 0.010819,
     "end_time": "2023-06-28T00:37:20.935572",
     "exception": false,
     "start_time": "2023-06-28T00:37:20.924753",
     "status": "completed"
    },
    "tags": []
   },
   "source": [
    "# Variables\n",
    "* They can't have spaces (e.g.： test var is not allowed)\n",
    "* They can only include letters, numbers, and underscores (e.g.： test_var! is not allowed)\n",
    "* They have to start with a letter or underscore (e.g.： 1_var is not allowed)"
   ]
  },
  {
   "cell_type": "code",
   "execution_count": 5,
   "id": "5177a5a2",
   "metadata": {
    "execution": {
     "iopub.execute_input": "2023-06-28T00:37:20.959786Z",
     "iopub.status.busy": "2023-06-28T00:37:20.959116Z",
     "iopub.status.idle": "2023-06-28T00:37:20.964971Z",
     "shell.execute_reply": "2023-06-28T00:37:20.963887Z"
    },
    "papermill": {
     "duration": 0.020798,
     "end_time": "2023-06-28T00:37:20.967542",
     "exception": false,
     "start_time": "2023-06-28T00:37:20.946744",
     "status": "completed"
    },
    "tags": []
   },
   "outputs": [
    {
     "name": "stdout",
     "output_type": "stream",
     "text": [
      "9\n"
     ]
    }
   ],
   "source": [
    "test_var = 4 + 5\n",
    "print(test_var)"
   ]
  },
  {
   "cell_type": "markdown",
   "id": "a0fc775d",
   "metadata": {
    "papermill": {
     "duration": 0.010972,
     "end_time": "2023-06-28T00:37:20.989711",
     "exception": false,
     "start_time": "2023-06-28T00:37:20.978739",
     "status": "completed"
    },
    "tags": []
   },
   "source": [
    "# multiple variables"
   ]
  },
  {
   "cell_type": "markdown",
   "id": "723eaabd",
   "metadata": {
    "papermill": {
     "duration": 0.010984,
     "end_time": "2023-06-28T00:37:21.011996",
     "exception": false,
     "start_time": "2023-06-28T00:37:21.001012",
     "status": "completed"
    },
    "tags": []
   },
   "source": [
    "---\n"
   ]
  },
  {
   "cell_type": "markdown",
   "id": "7e198a0b",
   "metadata": {
    "papermill": {
     "duration": 0.010854,
     "end_time": "2023-06-28T00:37:21.034153",
     "exception": false,
     "start_time": "2023-06-28T00:37:21.023299",
     "status": "completed"
    },
    "tags": []
   },
   "source": [
    "# functions(2023.06.27)"
   ]
  },
  {
   "cell_type": "markdown",
   "id": "27d7d355",
   "metadata": {
    "papermill": {
     "duration": 0.010804,
     "end_time": "2023-06-28T00:37:21.056074",
     "exception": false,
     "start_time": "2023-06-28T00:37:21.045270",
     "status": "completed"
    },
    "tags": []
   },
   "source": [
    "* Note that a function can also have no arguments, or it can have multiple arguments. You'll see some examples of this later in the lesson.\n",
    "* For every function, the parentheses enclosing the function argument(s) must be followed by a colon :\n",
    "* Every line of code in the function body must be indented exactly four spaces. \n",
    "* When we run a function, it can also be referred to as \"calling\" the function."
   ]
  },
  {
   "cell_type": "markdown",
   "id": "a0a2e236",
   "metadata": {
    "papermill": {
     "duration": 0.010516,
     "end_time": "2023-06-28T00:37:21.077746",
     "exception": false,
     "start_time": "2023-06-28T00:37:21.067230",
     "status": "completed"
    },
    "tags": []
   },
   "source": [
    "## Naming functions"
   ]
  },
  {
   "cell_type": "markdown",
   "id": "a945e4fc",
   "metadata": {
    "papermill": {
     "duration": 0.010607,
     "end_time": "2023-06-28T00:37:21.099282",
     "exception": false,
     "start_time": "2023-06-28T00:37:21.088675",
     "status": "completed"
    },
    "tags": []
   },
   "source": [
    "* When naming your own functions, you should use only lowercase letters, with words separated by underscores instead of spaces."
   ]
  },
  {
   "cell_type": "markdown",
   "id": "0335d332",
   "metadata": {
    "papermill": {
     "duration": 0.011001,
     "end_time": "2023-06-28T00:37:21.121407",
     "exception": false,
     "start_time": "2023-06-28T00:37:21.110406",
     "status": "completed"
    },
    "tags": []
   },
   "source": [
    "参数（argument）、变量（variable）、常量（）、形参、实参、全局变量（a global scope）、局部变量（a local scope）"
   ]
  },
  {
   "cell_type": "markdown",
   "id": "dba876ac",
   "metadata": {
    "papermill": {
     "duration": 0.010887,
     "end_time": "2023-06-28T00:37:21.143456",
     "exception": false,
     "start_time": "2023-06-28T00:37:21.132569",
     "status": "completed"
    },
    "tags": []
   },
   "source": [
    "## Functions with no arguments"
   ]
  },
  {
   "cell_type": "markdown",
   "id": "2bd04079",
   "metadata": {
    "papermill": {
     "duration": 0.010756,
     "end_time": "2023-06-28T00:37:21.165468",
     "exception": false,
     "start_time": "2023-06-28T00:37:21.154712",
     "status": "completed"
    },
    "tags": []
   },
   "source": [
    "* Note that it's possible to define function with no arguments, and that don't have a return statement. "
   ]
  },
  {
   "cell_type": "code",
   "execution_count": 6,
   "id": "770f8a41",
   "metadata": {
    "execution": {
     "iopub.execute_input": "2023-06-28T00:37:21.190278Z",
     "iopub.status.busy": "2023-06-28T00:37:21.189125Z",
     "iopub.status.idle": "2023-06-28T00:37:21.196067Z",
     "shell.execute_reply": "2023-06-28T00:37:21.194872Z"
    },
    "papermill": {
     "duration": 0.021612,
     "end_time": "2023-06-28T00:37:21.198227",
     "exception": false,
     "start_time": "2023-06-28T00:37:21.176615",
     "status": "completed"
    },
    "tags": []
   },
   "outputs": [
    {
     "name": "stdout",
     "output_type": "stream",
     "text": [
      "Hello, you!\n",
      "Good morning!\n"
     ]
    }
   ],
   "source": [
    "# Define the function with no arguments and with no return\n",
    "def print_hello():\n",
    "    print(\"Hello, you!\")\n",
    "    print(\"Good morning!\")\n",
    "    \n",
    "# Call the function\n",
    "print_hello()"
   ]
  },
  {
   "cell_type": "markdown",
   "id": "9c47ce6d",
   "metadata": {
    "papermill": {
     "duration": 0.010901,
     "end_time": "2023-06-28T00:37:21.220355",
     "exception": false,
     "start_time": "2023-06-28T00:37:21.209454",
     "status": "completed"
    },
    "tags": []
   },
   "source": [
    "---"
   ]
  },
  {
   "cell_type": "markdown",
   "id": "e91ebd74",
   "metadata": {
    "papermill": {
     "duration": 0.011005,
     "end_time": "2023-06-28T00:37:21.242717",
     "exception": false,
     "start_time": "2023-06-28T00:37:21.231712",
     "status": "completed"
    },
    "tags": []
   },
   "source": [
    "# Data Types"
   ]
  },
  {
   "cell_type": "markdown",
   "id": "76561cb5",
   "metadata": {
    "papermill": {
     "duration": 0.010836,
     "end_time": "2023-06-28T00:37:21.264492",
     "exception": false,
     "start_time": "2023-06-28T00:37:21.253656",
     "status": "completed"
    },
    "tags": []
   },
   "source": [
    "Integers\\Floats\\Booleans\\Strings"
   ]
  },
  {
   "cell_type": "markdown",
   "id": "6778fba1",
   "metadata": {
    "papermill": {
     "duration": 0.010789,
     "end_time": "2023-06-28T00:37:21.286403",
     "exception": false,
     "start_time": "2023-06-28T00:37:21.275614",
     "status": "completed"
    },
    "tags": []
   },
   "source": [
    "* Booleans are used to represent the truth value of an expression. Since 1 < 2 is a true statement, z_three takes on a value of True.\n",
    "* This won't always work! For instance, we can convert \"10.43430\" and \"3\" to floats, but we cannot convert \"Hello, Python!\" to a float.\n",
    "* Note that you cannot multiply a string by a float! Trying to do so will return an error."
   ]
  },
  {
   "cell_type": "code",
   "execution_count": 7,
   "id": "0a3cda00",
   "metadata": {
    "execution": {
     "iopub.execute_input": "2023-06-28T00:37:21.311061Z",
     "iopub.status.busy": "2023-06-28T00:37:21.310327Z",
     "iopub.status.idle": "2023-06-28T00:37:21.315881Z",
     "shell.execute_reply": "2023-06-28T00:37:21.314824Z"
    },
    "papermill": {
     "duration": 0.020059,
     "end_time": "2023-06-28T00:37:21.317909",
     "exception": false,
     "start_time": "2023-06-28T00:37:21.297850",
     "status": "completed"
    },
    "tags": []
   },
   "outputs": [
    {
     "name": "stdout",
     "output_type": "stream",
     "text": [
      "True\n",
      "<class 'bool'>\n"
     ]
    }
   ],
   "source": [
    "z_three = (1 < 2)\n",
    "print(z_three)\n",
    "print(type(z_three))"
   ]
  },
  {
   "cell_type": "markdown",
   "id": "996842e9",
   "metadata": {
    "papermill": {
     "duration": 0.011503,
     "end_time": "2023-06-28T00:37:21.340620",
     "exception": false,
     "start_time": "2023-06-28T00:37:21.329117",
     "status": "completed"
    },
    "tags": []
   },
   "source": [
    "* When you multiple an integer or float by a boolean with value True, it just returns that same integer or float (and is equivalent to multiplying by 1). \n",
    "* If you multiply an integer or float by a boolean with value False, it always returns 0. \n",
    "* This is true for both positive and negative numbers. \n",
    "\n",
    "\n",
    "* If you multiply a string by a boolean with value True, it just returns that same string. \n",
    "* And if you multiply a string by a boolean with value False, it returns an empty string (or a string with length zero)."
   ]
  },
  {
   "cell_type": "code",
   "execution_count": 8,
   "id": "babfafc8",
   "metadata": {
    "execution": {
     "iopub.execute_input": "2023-06-28T00:37:21.364821Z",
     "iopub.status.busy": "2023-06-28T00:37:21.364097Z",
     "iopub.status.idle": "2023-06-28T00:37:21.370809Z",
     "shell.execute_reply": "2023-06-28T00:37:21.369863Z"
    },
    "papermill": {
     "duration": 0.021406,
     "end_time": "2023-06-28T00:37:21.372989",
     "exception": false,
     "start_time": "2023-06-28T00:37:21.351583",
     "status": "completed"
    },
    "tags": []
   },
   "outputs": [
    {
     "name": "stdout",
     "output_type": "stream",
     "text": [
      "3\n",
      "-3.1\n",
      "<class 'str'>\n",
      "0\n"
     ]
    }
   ],
   "source": [
    "print(3 * True)\n",
    "print(-3.1 * True)\n",
    "print(type(\"abc\" * False))\n",
    "print(len(\"abc\" * False))"
   ]
  },
  {
   "cell_type": "markdown",
   "id": "418b912c",
   "metadata": {
    "papermill": {
     "duration": 0.011109,
     "end_time": "2023-06-28T00:37:21.395645",
     "exception": false,
     "start_time": "2023-06-28T00:37:21.384536",
     "status": "completed"
    },
    "tags": []
   },
   "source": [
    "* When you add booleans, adding False is equivalent to adding 0, and adding True is equivalent to adding 1."
   ]
  },
  {
   "cell_type": "code",
   "execution_count": 9,
   "id": "92e29002",
   "metadata": {
    "execution": {
     "iopub.execute_input": "2023-06-28T00:37:21.420445Z",
     "iopub.status.busy": "2023-06-28T00:37:21.420045Z",
     "iopub.status.idle": "2023-06-28T00:37:21.427085Z",
     "shell.execute_reply": "2023-06-28T00:37:21.425807Z"
    },
    "papermill": {
     "duration": 0.022086,
     "end_time": "2023-06-28T00:37:21.429199",
     "exception": false,
     "start_time": "2023-06-28T00:37:21.407113",
     "status": "completed"
    },
    "tags": []
   },
   "outputs": [
    {
     "name": "stdout",
     "output_type": "stream",
     "text": [
      "0\n",
      "1\n",
      "1\n",
      "2\n",
      "3\n"
     ]
    }
   ],
   "source": [
    "print(False + False)\n",
    "print(True + False)\n",
    "print(False + True)\n",
    "print(True + True)\n",
    "print(False + True + True + True)"
   ]
  },
  {
   "cell_type": "markdown",
   "id": "e5e66a40",
   "metadata": {
    "papermill": {
     "duration": 0.011228,
     "end_time": "2023-06-28T00:37:21.452079",
     "exception": false,
     "start_time": "2023-06-28T00:37:21.440851",
     "status": "completed"
    },
    "tags": []
   },
   "source": [
    "---"
   ]
  },
  {
   "cell_type": "markdown",
   "id": "f773c950",
   "metadata": {
    "papermill": {
     "duration": 0.011206,
     "end_time": "2023-06-28T00:37:21.474965",
     "exception": false,
     "start_time": "2023-06-28T00:37:21.463759",
     "status": "completed"
    },
    "tags": []
   },
   "source": []
  },
  {
   "cell_type": "markdown",
   "id": "51a259ac",
   "metadata": {
    "papermill": {
     "duration": 0.011307,
     "end_time": "2023-06-28T00:37:21.497773",
     "exception": false,
     "start_time": "2023-06-28T00:37:21.486466",
     "status": "completed"
    },
    "tags": []
   },
   "source": [
    "# Conditions and Conditional Statements"
   ]
  },
  {
   "cell_type": "markdown",
   "id": "8bddc03a",
   "metadata": {
    "papermill": {
     "duration": 0.010998,
     "end_time": "2023-06-28T00:37:21.520146",
     "exception": false,
     "start_time": "2023-06-28T00:37:21.509148",
     "status": "completed"
    },
    "tags": []
   },
   "source": []
  },
  {
   "attachments": {
    "ebc79a53-2e2d-4a58-ac27-88178815b015.png": {
     "image/png": "[encoded data removed]"
    }
   },
   "cell_type": "markdown",
   "id": "b42e75de",
   "metadata": {
    "papermill": {
     "duration": 0.010994,
     "end_time": "2023-06-28T00:37:21.542689",
     "exception": false,
     "start_time": "2023-06-28T00:37:21.531695",
     "status": "completed"
    },
    "tags": []
   },
   "source": [
    "![image.png](attachment:ebc79a53-2e2d-4a58-ac27-88178815b015.png)"
   ]
  },
  {
   "cell_type": "markdown",
   "id": "c6457486",
   "metadata": {
    "papermill": {
     "duration": 0.011136,
     "end_time": "2023-06-28T00:37:21.565044",
     "exception": false,
     "start_time": "2023-06-28T00:37:21.553908",
     "status": "completed"
    },
    "tags": []
   },
   "source": [
    "1. Note that there are two levels of indentation:\n",
    "* The first level of indentation is because we always need to indent the code block inside a function.\n",
    "* The second level of indentation is because we also need to indent the code block belonging to the \"if\" statement. (As you'll see, we'll also need to indent the code blocks for \"elif\" and \"else\" statements.)"
   ]
  },
  {
   "cell_type": "markdown",
   "id": "afb24b13",
   "metadata": {
    "papermill": {
     "duration": 0.010952,
     "end_time": "2023-06-28T00:37:21.587445",
     "exception": false,
     "start_time": "2023-06-28T00:37:21.576493",
     "status": "completed"
    },
    "tags": []
   },
   "source": [
    "* \"if\" statements\n",
    "* \"if ... else\" statements\n",
    "* \"if ... elif ... else\" statements\n",
    "* multiple \"elif\" statements\n"
   ]
  },
  {
   "cell_type": "markdown",
   "id": "1f75436a",
   "metadata": {
    "papermill": {
     "duration": 0.010787,
     "end_time": "2023-06-28T00:37:21.609980",
     "exception": false,
     "start_time": "2023-06-28T00:37:21.599193",
     "status": "completed"
    },
    "tags": []
   },
   "source": [
    "* Once an \"elif\" statement evaluates to True and the code block is run, the function skips over all remaining \"elif\" and \"else\" statements. After skipping these, all that is left is the return statement, which returns the value of dose.\n",
    "* The order of the elif statements does matter here! Re-ordering the statements will return a very different result."
   ]
  },
  {
   "cell_type": "code",
   "execution_count": 10,
   "id": "838df899",
   "metadata": {
    "execution": {
     "iopub.execute_input": "2023-06-28T00:37:21.634768Z",
     "iopub.status.busy": "2023-06-28T00:37:21.633997Z",
     "iopub.status.idle": "2023-06-28T00:37:21.641493Z",
     "shell.execute_reply": "2023-06-28T00:37:21.640773Z"
    },
    "papermill": {
     "duration": 0.022358,
     "end_time": "2023-06-28T00:37:21.643524",
     "exception": false,
     "start_time": "2023-06-28T00:37:21.621166",
     "status": "completed"
    },
    "tags": []
   },
   "outputs": [
    {
     "name": "stdout",
     "output_type": "stream",
     "text": [
      "5\n"
     ]
    }
   ],
   "source": [
    "def get_dose(weight):\n",
    "    # Dosage is 1.25 ml for anyone under 5.2 kg\n",
    "    if weight < 5.2:\n",
    "        dose = 1.25\n",
    "    elif weight < 7.9:\n",
    "        dose = 2.5\n",
    "    elif weight < 10.4:\n",
    "        dose = 3.75\n",
    "    elif weight < 15.9:\n",
    "        dose = 5\n",
    "    elif weight < 21.2:\n",
    "        dose = 7.5\n",
    "    # Dosage is 10 ml for anyone 21.2 kg or over\n",
    "    else:\n",
    "        dose = 10\n",
    "    return dose\n",
    "print(get_dose(12))"
   ]
  },
  {
   "cell_type": "code",
   "execution_count": 11,
   "id": "58adddb0",
   "metadata": {
    "execution": {
     "iopub.execute_input": "2023-06-28T00:37:21.668566Z",
     "iopub.status.busy": "2023-06-28T00:37:21.667900Z",
     "iopub.status.idle": "2023-06-28T00:37:21.675865Z",
     "shell.execute_reply": "2023-06-28T00:37:21.674814Z"
    },
    "papermill": {
     "duration": 0.022916,
     "end_time": "2023-06-28T00:37:21.677935",
     "exception": false,
     "start_time": "2023-06-28T00:37:21.655019",
     "status": "completed"
    },
    "tags": []
   },
   "outputs": [
    {
     "name": "stdout",
     "output_type": "stream",
     "text": [
      "7.5\n"
     ]
    }
   ],
   "source": [
    "def get_dose(weight):\n",
    "    # Dosage is 1.25 ml for anyone under 5.2 kg\n",
    "    if weight < 5.2:\n",
    "        dose = 1.25\n",
    "    elif weight < 21.2:\n",
    "        dose = 7.5\n",
    "    elif weight < 7.9:\n",
    "        dose = 2.5\n",
    "    elif weight < 10.4:\n",
    "        dose = 3.75\n",
    "    elif weight < 15.9:\n",
    "        dose = 5\n",
    "    # Dosage is 10 ml for anyone 21.2 kg or over\n",
    "    else:\n",
    "        dose = 10\n",
    "    return dose\n",
    "print(get_dose(12))"
   ]
  }
 ],
 "metadata": {
  "kernelspec": {
   "display_name": "Python 3",
   "language": "python",
   "name": "python3"
  },
  "language_info": {
   "codemirror_mode": {
    "name": "ipython",
    "version": 3
   },
   "file_extension": ".py",
   "mimetype": "text/x-python",
   "name": "python",
   "nbconvert_exporter": "python",
   "pygments_lexer": "ipython3",
   "version": "3.10.10"
  },
  "papermill": {
   "default_parameters": {},
   "duration": 13.613901,
   "end_time": "2023-06-28T00:37:22.515963",
   "environment_variables": {},
   "exception": null,
   "input_path": "__notebook__.ipynb",
   "output_path": "__notebook__.ipynb",
   "parameters": {},
   "start_time": "2023-06-28T00:37:08.902062",
   "version": "2.4.0"
  }
 },
 "nbformat": 4,
 "nbformat_minor": 5
}
