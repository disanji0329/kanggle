{
 "cells": [
  {
   "cell_type": "code",
   "execution_count": 1,
   "id": "fe119706",
   "metadata": {
    "_cell_guid": "b1076dfc-b9ad-4769-8c92-a6c4dae69d19",
    "_uuid": "8f2839f25d086af736a60e9eeb907d3b93b6e0e5",
    "execution": {
     "iopub.execute_input": "2023-06-27T02:50:49.235678Z",
     "iopub.status.busy": "2023-06-27T02:50:49.234893Z",
     "iopub.status.idle": "2023-06-27T02:50:49.247854Z",
     "shell.execute_reply": "2023-06-27T02:50:49.246875Z"
    },
    "papermill": {
     "duration": 0.023928,
     "end_time": "2023-06-27T02:50:49.250096",
     "exception": false,
     "start_time": "2023-06-27T02:50:49.226168",
     "status": "completed"
    },
    "tags": []
   },
   "outputs": [],
   "source": [
    "# This Python 3 environment comes with many helpful analytics libraries installed\n",
    "# It is defined by the kaggle/python Docker image: https://github.com/kaggle/docker-python\n",
    "# For example, here's several helpful packages to load\n",
    "\n",
    "import numpy as np # linear algebra\n",
    "import pandas as pd # data processing, CSV file I/O (e.g. pd.read_csv)\n",
    "\n",
    "# Input data files are available in the read-only \"../input/\" directory\n",
    "# For example, running this (by clicking run or pressing Shift+Enter) will list all files under the input directory\n",
    "\n",
    "import os\n",
    "for dirname, _, filenames in os.walk('/kaggle/input'):\n",
    "    for filename in filenames:\n",
    "        print(os.path.join(dirname, filename))\n",
    "\n",
    "# You can write up to 20GB to the current directory (/kaggle/working/) that gets preserved as output when you create a version using \"Save & Run All\" \n",
    "# You can also write temporary files to /kaggle/temp/, but they won't be saved outside of the current session"
   ]
  },
  {
   "cell_type": "markdown",
   "id": "6f229b76",
   "metadata": {
    "papermill": {
     "duration": 0.00579,
     "end_time": "2023-06-27T02:50:49.262258",
     "exception": false,
     "start_time": "2023-06-27T02:50:49.256468",
     "status": "completed"
    },
    "tags": []
   },
   "source": [
    "# Printing\n",
    "* putting the message inside the parentheses and enclosed in quotation marks."
   ]
  },
  {
   "cell_type": "code",
   "execution_count": 2,
   "id": "6c58fb7d",
   "metadata": {
    "execution": {
     "iopub.execute_input": "2023-06-27T02:50:49.277035Z",
     "iopub.status.busy": "2023-06-27T02:50:49.276347Z",
     "iopub.status.idle": "2023-06-27T02:50:49.282036Z",
     "shell.execute_reply": "2023-06-27T02:50:49.280799Z"
    },
    "papermill": {
     "duration": 0.016022,
     "end_time": "2023-06-27T02:50:49.284484",
     "exception": false,
     "start_time": "2023-06-27T02:50:49.268462",
     "status": "completed"
    },
    "tags": []
   },
   "outputs": [
    {
     "name": "stdout",
     "output_type": "stream",
     "text": [
      "Hello,world!\n"
     ]
    }
   ],
   "source": [
    "print(\"Hello,world!\")"
   ]
  },
  {
   "cell_type": "markdown",
   "id": "9e3fa33b",
   "metadata": {
    "papermill": {
     "duration": 0.006044,
     "end_time": "2023-06-27T02:50:49.296775",
     "exception": false,
     "start_time": "2023-06-27T02:50:49.290731",
     "status": "completed"
    },
    "tags": []
   },
   "source": [
    "# Arithmetic\n",
    "* Note that unlike when we were simply printing text, we don't use any quotation marks."
   ]
  },
  {
   "cell_type": "code",
   "execution_count": 3,
   "id": "f0d8cc81",
   "metadata": {
    "execution": {
     "iopub.execute_input": "2023-06-27T02:50:49.311139Z",
     "iopub.status.busy": "2023-06-27T02:50:49.310694Z",
     "iopub.status.idle": "2023-06-27T02:50:49.317041Z",
     "shell.execute_reply": "2023-06-27T02:50:49.315623Z"
    },
    "papermill": {
     "duration": 0.016618,
     "end_time": "2023-06-27T02:50:49.319488",
     "exception": false,
     "start_time": "2023-06-27T02:50:49.302870",
     "status": "completed"
    },
    "tags": []
   },
   "outputs": [
    {
     "name": "stdout",
     "output_type": "stream",
     "text": [
      "3\n"
     ]
    }
   ],
   "source": [
    "print(1 + 2)"
   ]
  },
  {
   "attachments": {
    "3c41ecba-ce45-49ea-a4ef-383b226a35fe.png": {
     "image/png": "[encoded data removed]"
    }
   },
   "cell_type": "markdown",
   "id": "453a2c5f",
   "metadata": {
    "papermill": {
     "duration": 0.007603,
     "end_time": "2023-06-27T02:50:49.333255",
     "exception": false,
     "start_time": "2023-06-27T02:50:49.325652",
     "status": "completed"
    },
    "tags": []
   },
   "source": [
    "![算术操作.png](attachment:3c41ecba-ce45-49ea-a4ef-383b226a35fe.png)"
   ]
  },
  {
   "cell_type": "markdown",
   "id": "51f39a9b",
   "metadata": {
    "papermill": {
     "duration": 0.005815,
     "end_time": "2023-06-27T02:50:49.345230",
     "exception": false,
     "start_time": "2023-06-27T02:50:49.339415",
     "status": "completed"
    },
    "tags": []
   },
   "source": [
    "# comment\n",
    " you need to write a pound sign (#) as the very first character."
   ]
  },
  {
   "cell_type": "code",
   "execution_count": 4,
   "id": "ebe80140",
   "metadata": {
    "execution": {
     "iopub.execute_input": "2023-06-27T02:50:49.359402Z",
     "iopub.status.busy": "2023-06-27T02:50:49.358985Z",
     "iopub.status.idle": "2023-06-27T02:50:49.365062Z",
     "shell.execute_reply": "2023-06-27T02:50:49.363678Z"
    },
    "papermill": {
     "duration": 0.016542,
     "end_time": "2023-06-27T02:50:49.367884",
     "exception": false,
     "start_time": "2023-06-27T02:50:49.351342",
     "status": "completed"
    },
    "tags": []
   },
   "outputs": [
    {
     "name": "stdout",
     "output_type": "stream",
     "text": [
      "6\n"
     ]
    }
   ],
   "source": [
    "# Multiply 3 by 2\n",
    "print(3 * 2)"
   ]
  },
  {
   "cell_type": "markdown",
   "id": "c0039ce6",
   "metadata": {
    "papermill": {
     "duration": 0.006048,
     "end_time": "2023-06-27T02:50:49.380249",
     "exception": false,
     "start_time": "2023-06-27T02:50:49.374201",
     "status": "completed"
    },
    "tags": []
   },
   "source": []
  },
  {
   "cell_type": "markdown",
   "id": "59957026",
   "metadata": {
    "papermill": {
     "duration": 0.006022,
     "end_time": "2023-06-27T02:50:49.392523",
     "exception": false,
     "start_time": "2023-06-27T02:50:49.386501",
     "status": "completed"
    },
    "tags": []
   },
   "source": [
    "# Variables\n",
    "* They can't have spaces (e.g.： test var is not allowed)\n",
    "* They can only include letters, numbers, and underscores (e.g.： test_var! is not allowed)\n",
    "* They have to start with a letter or underscore (e.g.： 1_var is not allowed)"
   ]
  },
  {
   "cell_type": "code",
   "execution_count": 5,
   "id": "d2ed0e68",
   "metadata": {
    "execution": {
     "iopub.execute_input": "2023-06-27T02:50:49.406768Z",
     "iopub.status.busy": "2023-06-27T02:50:49.406397Z",
     "iopub.status.idle": "2023-06-27T02:50:49.411841Z",
     "shell.execute_reply": "2023-06-27T02:50:49.410473Z"
    },
    "papermill": {
     "duration": 0.015756,
     "end_time": "2023-06-27T02:50:49.414534",
     "exception": false,
     "start_time": "2023-06-27T02:50:49.398778",
     "status": "completed"
    },
    "tags": []
   },
   "outputs": [
    {
     "name": "stdout",
     "output_type": "stream",
     "text": [
      "9\n"
     ]
    }
   ],
   "source": [
    "test_var = 4 + 5\n",
    "print(test_var)"
   ]
  },
  {
   "cell_type": "markdown",
   "id": "0e416a03",
   "metadata": {
    "papermill": {
     "duration": 0.006183,
     "end_time": "2023-06-27T02:50:49.427108",
     "exception": false,
     "start_time": "2023-06-27T02:50:49.420925",
     "status": "completed"
    },
    "tags": []
   },
   "source": [
    "# multiple variables"
   ]
  },
  {
   "cell_type": "markdown",
   "id": "964d8679",
   "metadata": {
    "papermill": {
     "duration": 0.006038,
     "end_time": "2023-06-27T02:50:49.439455",
     "exception": false,
     "start_time": "2023-06-27T02:50:49.433417",
     "status": "completed"
    },
    "tags": []
   },
   "source": [
    "---\n"
   ]
  },
  {
   "cell_type": "markdown",
   "id": "a029b8ba",
   "metadata": {
    "papermill": {
     "duration": 0.005983,
     "end_time": "2023-06-27T02:50:49.451671",
     "exception": false,
     "start_time": "2023-06-27T02:50:49.445688",
     "status": "completed"
    },
    "tags": []
   },
   "source": [
    "# functions(2023.06.27)"
   ]
  },
  {
   "cell_type": "markdown",
   "id": "de30f230",
   "metadata": {
    "papermill": {
     "duration": 0.006,
     "end_time": "2023-06-27T02:50:49.464107",
     "exception": false,
     "start_time": "2023-06-27T02:50:49.458107",
     "status": "completed"
    },
    "tags": []
   },
   "source": [
    "* Note that a function can also have no arguments, or it can have multiple arguments. You'll see some examples of this later in the lesson.\n",
    "* For every function, the parentheses enclosing the function argument(s) must be followed by a colon :\n",
    "* Every line of code in the function body must be indented exactly four spaces. \n",
    "* When we run a function, it can also be referred to as \"calling\" the function."
   ]
  },
  {
   "cell_type": "markdown",
   "id": "6ab1258c",
   "metadata": {
    "papermill": {
     "duration": 0.00611,
     "end_time": "2023-06-27T02:50:49.476411",
     "exception": false,
     "start_time": "2023-06-27T02:50:49.470301",
     "status": "completed"
    },
    "tags": []
   },
   "source": [
    "## Naming functions"
   ]
  },
  {
   "cell_type": "markdown",
   "id": "07df9035",
   "metadata": {
    "papermill": {
     "duration": 0.006028,
     "end_time": "2023-06-27T02:50:49.488723",
     "exception": false,
     "start_time": "2023-06-27T02:50:49.482695",
     "status": "completed"
    },
    "tags": []
   },
   "source": [
    "* When naming your own functions, you should use only lowercase letters, with words separated by underscores instead of spaces."
   ]
  },
  {
   "cell_type": "markdown",
   "id": "7321e8cc",
   "metadata": {
    "papermill": {
     "duration": 0.006033,
     "end_time": "2023-06-27T02:50:49.501117",
     "exception": false,
     "start_time": "2023-06-27T02:50:49.495084",
     "status": "completed"
    },
    "tags": []
   },
   "source": [
    "参数（argument）、变量（variable）、常量（）、形参、实参、全局变量（a global scope）、局部变量（a local scope）"
   ]
  },
  {
   "cell_type": "markdown",
   "id": "c72b9337",
   "metadata": {
    "papermill": {
     "duration": 0.00598,
     "end_time": "2023-06-27T02:50:49.513435",
     "exception": false,
     "start_time": "2023-06-27T02:50:49.507455",
     "status": "completed"
    },
    "tags": []
   },
   "source": [
    "## Functions with no arguments"
   ]
  },
  {
   "cell_type": "markdown",
   "id": "4aece15a",
   "metadata": {
    "papermill": {
     "duration": 0.005975,
     "end_time": "2023-06-27T02:50:49.525689",
     "exception": false,
     "start_time": "2023-06-27T02:50:49.519714",
     "status": "completed"
    },
    "tags": []
   },
   "source": [
    "* Note that it's possible to define function with no arguments, and that don't have a return statement. "
   ]
  },
  {
   "cell_type": "code",
   "execution_count": 6,
   "id": "64acfa35",
   "metadata": {
    "execution": {
     "iopub.execute_input": "2023-06-27T02:50:49.540300Z",
     "iopub.status.busy": "2023-06-27T02:50:49.539917Z",
     "iopub.status.idle": "2023-06-27T02:50:49.546266Z",
     "shell.execute_reply": "2023-06-27T02:50:49.544690Z"
    },
    "papermill": {
     "duration": 0.016754,
     "end_time": "2023-06-27T02:50:49.548796",
     "exception": false,
     "start_time": "2023-06-27T02:50:49.532042",
     "status": "completed"
    },
    "tags": []
   },
   "outputs": [
    {
     "name": "stdout",
     "output_type": "stream",
     "text": [
      "Hello, you!\n",
      "Good morning!\n"
     ]
    }
   ],
   "source": [
    "# Define the function with no arguments and with no return\n",
    "def print_hello():\n",
    "    print(\"Hello, you!\")\n",
    "    print(\"Good morning!\")\n",
    "    \n",
    "# Call the function\n",
    "print_hello()"
   ]
  }
 ],
 "metadata": {
  "kernelspec": {
   "display_name": "Python 3",
   "language": "python",
   "name": "python3"
  },
  "language_info": {
   "codemirror_mode": {
    "name": "ipython",
    "version": 3
   },
   "file_extension": ".py",
   "mimetype": "text/x-python",
   "name": "python",
   "nbconvert_exporter": "python",
   "pygments_lexer": "ipython3",
   "version": "3.10.10"
  },
  "papermill": {
   "default_parameters": {},
   "duration": 12.916344,
   "end_time": "2023-06-27T02:50:50.380650",
   "environment_variables": {},
   "exception": null,
   "input_path": "__notebook__.ipynb",
   "output_path": "__notebook__.ipynb",
   "parameters": {},
   "start_time": "2023-06-27T02:50:37.464306",
   "version": "2.4.0"
  }
 },
 "nbformat": 4,
 "nbformat_minor": 5
}
